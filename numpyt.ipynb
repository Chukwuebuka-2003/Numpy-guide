{
 "cells": [
  {
   "cell_type": "markdown",
   "id": "72ff6de2-2196-406c-815c-e25e660cb978",
   "metadata": {
    "tags": []
   },
   "source": [
    "## Numpy array creation"
   ]
  },
  {
   "cell_type": "markdown",
   "id": "245b6ad6-809e-4b50-a240-3a2650400cc3",
   "metadata": {},
   "source": [
    "- Numpy is a python library that provides support for working with large, multi-dimensional arrays and matrices.\n",
    "- It provides a wide range of mathematical functions to manipulate and operate on these arrays"
   ]
  },
  {
   "cell_type": "code",
   "execution_count": 1,
   "id": "1f0c8bf5-c574-42c5-b2ac-da15619fe986",
   "metadata": {},
   "outputs": [],
   "source": [
    "import numpy as np\n",
    "import pandas as pd"
   ]
  },
  {
   "cell_type": "code",
   "execution_count": 2,
   "id": "117b6f8a-7e11-4b4a-b6c4-0ea4c5f664b8",
   "metadata": {},
   "outputs": [
    {
     "data": {
      "text/plain": [
       "array([2, 4, 5])"
      ]
     },
     "execution_count": 2,
     "metadata": {},
     "output_type": "execute_result"
    }
   ],
   "source": [
    "# from python lists\n",
    "b = [2, 4, 5]\n",
    "np.array(b)\n",
    "# one dimensional array"
   ]
  },
  {
   "cell_type": "code",
   "execution_count": 3,
   "id": "52e58a24-ac50-49d0-a2d8-d04fb7e7a0bd",
   "metadata": {},
   "outputs": [
    {
     "data": {
      "text/plain": [
       "array([[1, 2, 3],\n",
       "       [4, 5, 6]])"
      ]
     },
     "execution_count": 3,
     "metadata": {},
     "output_type": "execute_result"
    }
   ],
   "source": [
    "b = [[1, 2, 3], [4, 5, 6]]\n",
    "np.array(b)\n",
    "# multi dimensional"
   ]
  },
  {
   "cell_type": "code",
   "execution_count": 4,
   "id": "71e4828b-269d-4547-86de-82db7e8e34c8",
   "metadata": {},
   "outputs": [
    {
     "data": {
      "text/plain": [
       "array([0., 0., 0., 0., 0., 0.])"
      ]
     },
     "execution_count": 4,
     "metadata": {},
     "output_type": "execute_result"
    }
   ],
   "source": [
    "# an array of zeros\n",
    "np.zeros(6)"
   ]
  },
  {
   "cell_type": "code",
   "execution_count": 6,
   "id": "2ec52497-4a91-4e08-9570-6475b21d02d1",
   "metadata": {},
   "outputs": [
    {
     "data": {
      "text/plain": [
       "array([[0., 0., 0., 0., 0., 0.],\n",
       "       [0., 0., 0., 0., 0., 0.],\n",
       "       [0., 0., 0., 0., 0., 0.]])"
      ]
     },
     "execution_count": 6,
     "metadata": {},
     "output_type": "execute_result"
    }
   ],
   "source": [
    "# multidimensional\n",
    "np.zeros((3, 6))"
   ]
  },
  {
   "cell_type": "code",
   "execution_count": 7,
   "id": "f678c44b-6f37-407d-86a4-4b3a5f27ca49",
   "metadata": {},
   "outputs": [
    {
     "data": {
      "text/plain": [
       "array([1., 1., 1., 1.])"
      ]
     },
     "execution_count": 7,
     "metadata": {},
     "output_type": "execute_result"
    }
   ],
   "source": [
    "# an array of ones\n",
    "np.ones(4)"
   ]
  },
  {
   "cell_type": "code",
   "execution_count": 8,
   "id": "98eadbe1-93bf-4b6a-b262-1ed73aab9527",
   "metadata": {},
   "outputs": [
    {
     "data": {
      "text/plain": [
       "array([[1., 1., 1., 1., 1., 1.],\n",
       "       [1., 1., 1., 1., 1., 1.]])"
      ]
     },
     "execution_count": 8,
     "metadata": {},
     "output_type": "execute_result"
    }
   ],
   "source": [
    "np.ones((2, 6))"
   ]
  },
  {
   "cell_type": "code",
   "execution_count": 9,
   "id": "0f4c73f4-1d1b-4d1e-a394-15ec3004d242",
   "metadata": {},
   "outputs": [
    {
     "data": {
      "text/plain": [
       "array([[1., 0., 0., 0.],\n",
       "       [0., 1., 0., 0.],\n",
       "       [0., 0., 1., 0.],\n",
       "       [0., 0., 0., 1.]])"
      ]
     },
     "execution_count": 9,
     "metadata": {},
     "output_type": "execute_result"
    }
   ],
   "source": [
    "# an identity numpy array\n",
    "np.eye(4)"
   ]
  },
  {
   "cell_type": "code",
   "execution_count": 10,
   "id": "e0ddae98-82e5-4582-8a8a-55ef7ca64619",
   "metadata": {},
   "outputs": [
    {
     "data": {
      "text/plain": [
       "array([0, 1, 2, 3, 4])"
      ]
     },
     "execution_count": 10,
     "metadata": {},
     "output_type": "execute_result"
    }
   ],
   "source": [
    "# create an equally spaced Numpy Array\n",
    "np.arange(5)"
   ]
  },
  {
   "cell_type": "code",
   "execution_count": 11,
   "id": "156aab30-8bfe-4d96-ab3e-4e4ca10da722",
   "metadata": {},
   "outputs": [
    {
     "data": {
      "text/plain": [
       "array([ 4,  5,  6,  7,  8,  9, 10, 11])"
      ]
     },
     "execution_count": 11,
     "metadata": {},
     "output_type": "execute_result"
    }
   ],
   "source": [
    "np.arange(4, 12)"
   ]
  },
  {
   "cell_type": "code",
   "execution_count": 12,
   "id": "56801852-23fa-455b-821c-77ea318f025b",
   "metadata": {},
   "outputs": [
    {
     "data": {
      "text/plain": [
       "array([10.        , 11.66666667, 13.33333333, 15.        , 16.66666667,\n",
       "       18.33333333, 20.        ])"
      ]
     },
     "execution_count": 12,
     "metadata": {},
     "output_type": "execute_result"
    }
   ],
   "source": [
    "# create an equally spaced array with a specific size\n",
    "np.linspace(start=10, stop=20, num=7)"
   ]
  },
  {
   "cell_type": "code",
   "execution_count": 13,
   "id": "b414b521-662b-4236-af5d-8cbcf1db31a4",
   "metadata": {},
   "outputs": [
    {
     "data": {
      "text/plain": [
       "array([ 7,  8,  7, 15,  8])"
      ]
     },
     "execution_count": 13,
     "metadata": {},
     "output_type": "execute_result"
    }
   ],
   "source": [
    "# generate a random array\n",
    "np.random.randint(low=4, high=18, size=5)"
   ]
  },
  {
   "cell_type": "code",
   "execution_count": 14,
   "id": "e25df926-fa43-4355-bbb2-a388f6d4ced8",
   "metadata": {},
   "outputs": [
    {
     "data": {
      "text/plain": [
       "array([1, 4, 7], dtype=int64)"
      ]
     },
     "execution_count": 14,
     "metadata": {},
     "output_type": "execute_result"
    }
   ],
   "source": [
    "# generate a numpy array from a pandas series\n",
    "a = pd.Series([1, 4, 7], name=\"life\")\n",
    "np.array(a)"
   ]
  },
  {
   "cell_type": "code",
   "execution_count": 16,
   "id": "22ec3a9f-1fc4-4942-a514-3188a9a29ca5",
   "metadata": {},
   "outputs": [
    {
     "name": "stdout",
     "output_type": "stream",
     "text": [
      "Shape of the array (6, 9)\n"
     ]
    }
   ],
   "source": [
    "# Shape of the Array\n",
    "a = np.ones((6, 9))\n",
    "print(\"Shape of the array\", a.shape)"
   ]
  },
  {
   "cell_type": "code",
   "execution_count": 23,
   "id": "90fe2f75-7f73-49e1-90e6-9675bbce2904",
   "metadata": {},
   "outputs": [
    {
     "data": {
      "text/plain": [
       "array([[0, 1, 2, 3, 4],\n",
       "       [5, 6, 7, 8, 9]])"
      ]
     },
     "execution_count": 23,
     "metadata": {},
     "output_type": "execute_result"
    }
   ],
   "source": [
    "# reshape the array\n",
    "a = np.arange(10)\n",
    "a.reshape((2, 5))"
   ]
  },
  {
   "cell_type": "code",
   "execution_count": 28,
   "id": "09eecda4-9d29-4b90-bcae-946e4a6b15a4",
   "metadata": {},
   "outputs": [
    {
     "data": {
      "text/plain": [
       "array([[ 0,  2,  4,  6,  8, 10, 12, 14],\n",
       "       [ 1,  3,  5,  7,  9, 11, 13, 15]])"
      ]
     },
     "execution_count": 28,
     "metadata": {},
     "output_type": "execute_result"
    }
   ],
   "source": [
    "# transpose of an array\n",
    "a = np.arange(16).reshape((8, 2))\n",
    "a.transpose()"
   ]
  },
  {
   "cell_type": "code",
   "execution_count": 29,
   "id": "4c66cb54-5ddf-4b1a-a352-4c276e527bc1",
   "metadata": {},
   "outputs": [
    {
     "data": {
      "text/plain": [
       "array([[4, 5],\n",
       "       [6, 9],\n",
       "       [3, 8]])"
      ]
     },
     "execution_count": 29,
     "metadata": {},
     "output_type": "execute_result"
    }
   ],
   "source": [
    "# Concatenate multiple arrays to form a single array\n",
    "a = np.array([[4, 5], [6, 9]])\n",
    "b = np.array([[3, 8]])\n",
    "np.concatenate((a, b), axis=0)"
   ]
  },
  {
   "cell_type": "code",
   "execution_count": 30,
   "id": "8538fc71-b4e8-4038-8c09-d706fc1923da",
   "metadata": {},
   "outputs": [
    {
     "data": {
      "text/plain": [
       "array([[4, 5, 3],\n",
       "       [6, 9, 8]])"
      ]
     },
     "execution_count": 30,
     "metadata": {},
     "output_type": "execute_result"
    }
   ],
   "source": [
    "# concatenate column wise\n",
    "np.concatenate((a, b.T), axis=1)"
   ]
  },
  {
   "cell_type": "code",
   "execution_count": 31,
   "id": "2f723f94-9168-4b3b-b44f-b669d407df1a",
   "metadata": {},
   "outputs": [
    {
     "data": {
      "text/plain": [
       "array([ 4,  9,  8, 10])"
      ]
     },
     "execution_count": 31,
     "metadata": {},
     "output_type": "execute_result"
    }
   ],
   "source": [
    "# flatten a numpy array\n",
    "a = np.array([[4, 9], [8, 10]])\n",
    "a.flatten()"
   ]
  },
  {
   "cell_type": "code",
   "execution_count": 34,
   "id": "e6c6d3cc-78cb-4e65-a0a1-74e7f3ba8750",
   "metadata": {},
   "outputs": [
    {
     "data": {
      "text/plain": [
       "array([ 4,  7,  9, 10, 19])"
      ]
     },
     "execution_count": 34,
     "metadata": {},
     "output_type": "execute_result"
    }
   ],
   "source": [
    "# determine the unique elements of an array\n",
    "a = np.array([[9, 10, 7], [4, 19, 4]])\n",
    "np.unique(a)"
   ]
  },
  {
   "cell_type": "code",
   "execution_count": 37,
   "id": "b179f227-4a77-40f7-a508-e151fe9080a9",
   "metadata": {},
   "outputs": [
    {
     "data": {
      "text/plain": [
       "(3,)"
      ]
     },
     "execution_count": 37,
     "metadata": {},
     "output_type": "execute_result"
    }
   ],
   "source": [
    "# squeeze an array\n",
    "a = np.array([[[0], [1], [2]]])\n",
    "a.shape\n",
    "np.squeeze(a).shape"
   ]
  },
  {
   "cell_type": "code",
   "execution_count": 38,
   "id": "4ca5004a-33b0-4273-87af-9bd6b7ba7342",
   "metadata": {},
   "outputs": [
    {
     "data": {
      "text/plain": [
       "[[1, 13], [5, 14], [30, 16]]"
      ]
     },
     "execution_count": 38,
     "metadata": {},
     "output_type": "execute_result"
    }
   ],
   "source": [
    "# transform an array to a python lists\n",
    "a = np.array([[1, 13], [5, 14], [30, 16]])\n",
    "a.tolist()"
   ]
  },
  {
   "cell_type": "markdown",
   "id": "9e386ce3-b3a4-405d-83d2-726c78474449",
   "metadata": {},
   "source": [
    "Arithmetic Operations In Arrays"
   ]
  },
  {
   "cell_type": "code",
   "execution_count": 39,
   "id": "9f1a16c6-baa3-464e-9292-4c0d723b4576",
   "metadata": {},
   "outputs": [
    {
     "name": "stdout",
     "output_type": "stream",
     "text": [
      "Trigonometric Sine: [-0.95892427  0.41211849 -0.28790332]\n",
      "Trigonometric Cosine: [ 0.28366219 -0.91113026 -0.95765948]\n",
      "Trigonometric Tangent: [-3.38051501 -0.45231566  0.30063224]\n"
     ]
    }
   ],
   "source": [
    "# arithmetic operations in arrays\n",
    "a = np.array([5,9,16])\n",
    "print('Trigonometric Sine:', np.sin(a))\n",
    "print(\"Trigonometric Cosine:\", np.cos(a))\n",
    "print(\"Trigonometric Tangent:\", np.tan(a))"
   ]
  },
  {
   "cell_type": "code",
   "execution_count": 41,
   "id": "87ff5a61-aa01-4775-9e1a-c19b47131d26",
   "metadata": {},
   "outputs": [
    {
     "data": {
      "text/plain": [
       "array([1.   , 1.375, 1.75 , 2.125, 2.5  , 2.875, 3.25 , 3.625, 4.   ])"
      ]
     },
     "execution_count": 41,
     "metadata": {},
     "output_type": "execute_result"
    }
   ],
   "source": [
    "# round to a given number of decimals \n",
    "a = np.linspace(1,4,9)\n",
    "np.round_(a,3)\n",
    "# rounding to 3 decimal places"
   ]
  },
  {
   "cell_type": "code",
   "execution_count": 44,
   "id": "6aaad952-332d-4c4f-be5c-311569e1e3d1",
   "metadata": {},
   "outputs": [
    {
     "data": {
      "text/plain": [
       "array([   2.718,    7.389,   20.086,   54.598,  148.413,  403.429,\n",
       "       1096.633])"
      ]
     },
     "execution_count": 44,
     "metadata": {},
     "output_type": "execute_result"
    }
   ],
   "source": [
    "# Exponents\n",
    "a = np.arange(1,8)\n",
    "np.exp(a).round(3)"
   ]
  },
  {
   "cell_type": "code",
   "execution_count": 45,
   "id": "d15abbd7-4953-46b0-8ac7-f4870088a178",
   "metadata": {},
   "outputs": [
    {
     "data": {
      "text/plain": [
       "array([0.   , 0.693, 1.099, 1.386, 1.609, 1.792, 1.946])"
      ]
     },
     "execution_count": 45,
     "metadata": {},
     "output_type": "execute_result"
    }
   ],
   "source": [
    "# Logarithm\n",
    "np.log(a).round(3)"
   ]
  },
  {
   "cell_type": "code",
   "execution_count": 46,
   "id": "76f44725-0e91-4616-8d0e-db3725389d17",
   "metadata": {},
   "outputs": [
    {
     "data": {
      "text/plain": [
       "18240"
      ]
     },
     "execution_count": 46,
     "metadata": {},
     "output_type": "execute_result"
    }
   ],
   "source": [
    "# product of array elements\n",
    "a = np.array([[1,8],[5,8],[3,19]])\n",
    "np.prod(a)"
   ]
  },
  {
   "cell_type": "code",
   "execution_count": 47,
   "id": "2a0919c8-d2b8-4fcc-bb09-b43f2864b8ed",
   "metadata": {},
   "outputs": [
    {
     "data": {
      "text/plain": [
       "array([  15, 1216])"
      ]
     },
     "execution_count": 47,
     "metadata": {},
     "output_type": "execute_result"
    }
   ],
   "source": [
    "np.prod(a,axis = 0)"
   ]
  },
  {
   "cell_type": "code",
   "execution_count": 48,
   "id": "6f184b79-88ae-4a6f-b179-281ad2abaf9d",
   "metadata": {},
   "outputs": [
    {
     "data": {
      "text/plain": [
       "array([ 8, 40, 57])"
      ]
     },
     "execution_count": 48,
     "metadata": {},
     "output_type": "execute_result"
    }
   ],
   "source": [
    "np.prod(a,axis=1)"
   ]
  },
  {
   "cell_type": "code",
   "execution_count": 49,
   "id": "d3eccd9e-2672-4806-a96d-ceab48ccbb14",
   "metadata": {},
   "outputs": [
    {
     "data": {
      "text/plain": [
       "44"
      ]
     },
     "execution_count": 49,
     "metadata": {},
     "output_type": "execute_result"
    }
   ],
   "source": [
    "# sum of array elements\n",
    "np.sum(a)"
   ]
  },
  {
   "cell_type": "code",
   "execution_count": 50,
   "id": "108f9e0f-1048-4af1-a295-35276fec387a",
   "metadata": {},
   "outputs": [
    {
     "data": {
      "text/plain": [
       "array([ 9, 35])"
      ]
     },
     "execution_count": 50,
     "metadata": {},
     "output_type": "execute_result"
    }
   ],
   "source": [
    "np.sum(a,axis=0)"
   ]
  },
  {
   "cell_type": "code",
   "execution_count": 51,
   "id": "6446ec45-e023-4988-9da9-804e12b8743f",
   "metadata": {},
   "outputs": [
    {
     "data": {
      "text/plain": [
       "array([ 9, 13, 22])"
      ]
     },
     "execution_count": 51,
     "metadata": {},
     "output_type": "execute_result"
    }
   ],
   "source": [
    "np.sum(a,axis=1)"
   ]
  },
  {
   "cell_type": "code",
   "execution_count": 52,
   "id": "c06c266e-e857-473a-a8d1-81edd6e051b9",
   "metadata": {},
   "outputs": [
    {
     "data": {
      "text/plain": [
       "array([[2.23606798, 2.82842712],\n",
       "       [2.        , 3.        ],\n",
       "       [1.73205081, 3.16227766]])"
      ]
     },
     "execution_count": 52,
     "metadata": {},
     "output_type": "execute_result"
    }
   ],
   "source": [
    "# Square root\n",
    "a = np.array([[5,8], [4,9],[3,10]])\n",
    "np.sqrt(a)"
   ]
  },
  {
   "cell_type": "markdown",
   "id": "efcfd372-9845-4776-8682-747594fccbda",
   "metadata": {},
   "source": [
    "Matrix Operations"
   ]
  },
  {
   "cell_type": "code",
   "execution_count": 76,
   "id": "39846400-1126-460f-b713-63db4104cda6",
   "metadata": {},
   "outputs": [
    {
     "data": {
      "text/plain": [
       "array([[ 45, 140],\n",
       "       [ 26,  67]])"
      ]
     },
     "execution_count": 76,
     "metadata": {},
     "output_type": "execute_result"
    }
   ],
   "source": [
    "# Matrix operations\n",
    "#dot product\n",
    "a= np.array([[5,15],[4,7]])\n",
    "b = np.array([[3,1],[2,9]])\n",
    "np.dot(a, b)\n"
   ]
  },
  {
   "cell_type": "code",
   "execution_count": 77,
   "id": "551bdb39-e9c1-4090-b756-a57967da39f9",
   "metadata": {},
   "outputs": [
    {
     "data": {
      "text/plain": [
       "array([[ 45, 140],\n",
       "       [ 26,  67]])"
      ]
     },
     "execution_count": 77,
     "metadata": {},
     "output_type": "execute_result"
    }
   ],
   "source": [
    "# matrix product\n",
    "np.matmul(a, b)"
   ]
  },
  {
   "cell_type": "code",
   "execution_count": 79,
   "id": "d3f2c068-d5d6-4db9-a11b-385bbcc0469f",
   "metadata": {},
   "outputs": [
    {
     "name": "stdout",
     "output_type": "stream",
     "text": [
      "Matrix a:\n",
      " [[ 5 15]\n",
      " [ 4  7]]\n",
      "Inverse of Matrix A:\n",
      " [[-0.28  0.6 ]\n",
      " [ 0.16 -0.2 ]]\n"
     ]
    }
   ],
   "source": [
    "# an inverse of a matrix\n",
    "inv_a = np.linalg.inv(a)\n",
    "print(\"Matrix a:\\n\", a)\n",
    "print(\"Inverse of Matrix A:\\n\", inv_a)"
   ]
  },
  {
   "cell_type": "markdown",
   "id": "5d7f7784-950a-4bf8-871b-472bbafdcd57",
   "metadata": {},
   "source": [
    "Statistical Calculations"
   ]
  },
  {
   "cell_type": "code",
   "execution_count": 60,
   "id": "9bfae828-ab4c-4b40-9f58-2d10816b4334",
   "metadata": {},
   "outputs": [
    {
     "data": {
      "text/plain": [
       "11.0"
      ]
     },
     "execution_count": 60,
     "metadata": {},
     "output_type": "execute_result"
    }
   ],
   "source": [
    "a = np.array([[5,19], [4,16]])\n",
    "np.mean(a)"
   ]
  },
  {
   "cell_type": "code",
   "execution_count": 62,
   "id": "30141c5f-2739-4396-a1c1-40e87612da40",
   "metadata": {},
   "outputs": [
    {
     "data": {
      "text/plain": [
       "array([12., 10.])"
      ]
     },
     "execution_count": 62,
     "metadata": {},
     "output_type": "execute_result"
    }
   ],
   "source": [
    "np.mean(a, axis=1)\n",
    "# along the row axis"
   ]
  },
  {
   "cell_type": "code",
   "execution_count": 63,
   "id": "87be4c0a-5912-4da7-bb16-0b6d892aeef3",
   "metadata": {},
   "outputs": [
    {
     "data": {
      "text/plain": [
       "array([ 4.5, 17.5])"
      ]
     },
     "execution_count": 63,
     "metadata": {},
     "output_type": "execute_result"
    }
   ],
   "source": [
    "np.mean(a, axis=0)\n",
    "# along column axis"
   ]
  },
  {
   "cell_type": "code",
   "execution_count": 61,
   "id": "94b9b0f9-ab4b-46d2-a763-9faa45f52082",
   "metadata": {},
   "outputs": [
    {
     "data": {
      "text/plain": [
       "10.5"
      ]
     },
     "execution_count": 61,
     "metadata": {},
     "output_type": "execute_result"
    }
   ],
   "source": [
    "#median\n",
    "np.median(a)"
   ]
  },
  {
   "cell_type": "code",
   "execution_count": 64,
   "id": "47b769b0-e0e2-410f-8742-c3b3385f1559",
   "metadata": {},
   "outputs": [
    {
     "data": {
      "text/plain": [
       "array([ 4.5, 17.5])"
      ]
     },
     "execution_count": 64,
     "metadata": {},
     "output_type": "execute_result"
    }
   ],
   "source": [
    "np.median(a, axis=0)\n",
    "# along the row axis"
   ]
  },
  {
   "cell_type": "code",
   "execution_count": 65,
   "id": "954622f0-8009-40f7-927d-4199fd6fa693",
   "metadata": {},
   "outputs": [
    {
     "data": {
      "text/plain": [
       "array([12., 10.])"
      ]
     },
     "execution_count": 65,
     "metadata": {},
     "output_type": "execute_result"
    }
   ],
   "source": [
    "np.median(a, axis=1)\n",
    "# along the column axis"
   ]
  },
  {
   "cell_type": "code",
   "execution_count": 66,
   "id": "0cc3541e-de00-45c6-bb2b-4b7016861cd0",
   "metadata": {},
   "outputs": [
    {
     "data": {
      "text/plain": [
       "6.59545297913646"
      ]
     },
     "execution_count": 66,
     "metadata": {},
     "output_type": "execute_result"
    }
   ],
   "source": [
    "# standard deviation\n",
    "np.std(a)"
   ]
  },
  {
   "cell_type": "code",
   "execution_count": 67,
   "id": "f2db6bd3-d4e1-4bda-b43e-9dbf75f213db",
   "metadata": {},
   "outputs": [
    {
     "data": {
      "text/plain": [
       "array([0.5, 1.5])"
      ]
     },
     "execution_count": 67,
     "metadata": {},
     "output_type": "execute_result"
    }
   ],
   "source": [
    "np.std(a, axis=0) \n",
    "# along the row axis"
   ]
  },
  {
   "cell_type": "code",
   "execution_count": 70,
   "id": "a6104c51-793c-4a4b-adde-3fbbfe8beb48",
   "metadata": {},
   "outputs": [
    {
     "data": {
      "text/plain": [
       "array([7., 6.])"
      ]
     },
     "execution_count": 70,
     "metadata": {},
     "output_type": "execute_result"
    }
   ],
   "source": [
    "np.std(a, axis=1)\n",
    "# along the column axis"
   ]
  },
  {
   "cell_type": "markdown",
   "id": "69989f64-2531-4b04-bcb8-83d8e3d4a730",
   "metadata": {},
   "source": [
    "Correlation Coefficient"
   ]
  },
  {
   "cell_type": "code",
   "execution_count": 74,
   "id": "6e42db76-3271-4af0-b00b-edb3899965ce",
   "metadata": {},
   "outputs": [
    {
     "name": "stdout",
     "output_type": "stream",
     "text": [
      "Correlation Coefficient -0.24552983583446694\n"
     ]
    }
   ],
   "source": [
    "a = np.array([1,4,18,10])\n",
    "b = np.array([12,7,9,10])\n",
    "\n",
    "corr = np.corrcoef(a,b)[0,1]\n",
    "\n",
    "print('Correlation Coefficient', corr)"
   ]
  },
  {
   "cell_type": "markdown",
   "id": "b5d0f329-6837-412d-9631-8c23811eaefd",
   "metadata": {},
   "source": [
    "Plotting Arrays"
   ]
  },
  {
   "cell_type": "code",
   "execution_count": 80,
   "id": "e6120001-b062-4523-a756-c9ee9e299aad",
   "metadata": {},
   "outputs": [],
   "source": [
    "import matplotlib.pyplot as plt"
   ]
  },
  {
   "cell_type": "code",
   "execution_count": 82,
   "id": "a65599df-04ca-4120-b852-5f97b818a03a",
   "metadata": {},
   "outputs": [],
   "source": [
    "x = np.linspace(0,10,200)\n",
    "y =np.sin(x)"
   ]
  },
  {
   "cell_type": "code",
   "execution_count": 83,
   "id": "d213b16b-8906-4fa8-8a97-6231841e495b",
   "metadata": {},
   "outputs": [
    {
     "data": {
      "image/png": "[encoded data removed]",
      "text/plain": [
       "<Figure size 640x480 with 1 Axes>"
      ]
     },
     "metadata": {},
     "output_type": "display_data"
    }
   ],
   "source": [
    "plt.plot(x,y)\n",
    "plt.xlabel('x')\n",
    "plt.ylabel('y')\n",
    "plt.title('Sine Function')\n",
    "plt.show()"
   ]
  },
  {
   "cell_type": "code",
   "execution_count": null,
   "id": "0ce919fb-aec8-445f-bfcf-7cfa1e92911b",
   "metadata": {},
   "outputs": [],
   "source": []
  }
 ],
 "metadata": {
  "kernelspec": {
   "display_name": "Python 3 (ipykernel)",
   "language": "python",
   "name": "python3"
  },
  "language_info": {
   "codemirror_mode": {
    "name": "ipython",
    "version": 3
   },
   "file_extension": ".py",
   "mimetype": "text/x-python",
   "name": "python",
   "nbconvert_exporter": "python",
   "pygments_lexer": "ipython3",
   "version": "3.9.13"
  }
 },
 "nbformat": 4,
 "nbformat_minor": 5
}
